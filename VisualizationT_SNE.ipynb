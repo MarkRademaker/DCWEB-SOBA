{
  "nbformat": 4,
  "nbformat_minor": 0,
  "metadata": {
    "kernelspec": {
      "display_name": "Python 3",
      "language": "python",
      "name": "python3"
    },
    "language_info": {
      "codemirror_mode": {
        "name": "ipython",
        "version": 3
      },
      "file_extension": ".py",
      "mimetype": "text/x-python",
      "name": "python",
      "nbconvert_exporter": "python",
      "pygments_lexer": "ipython3",
      "version": "3.8.5"
    },
    "colab": {
      "name": "VisualizationT-SNE.ipynb",
      "provenance": [],
      "toc_visible": true,
      "include_colab_link": true
    }
  },
  "cells": [
    {
      "cell_type": "markdown",
      "metadata": {
        "id": "view-in-github",
        "colab_type": "text"
      },
      "source": [
        "<a href=\"https://colab.research.google.com/github/roosvlc/DCWEB-SOBA/blob/main/VisualizationT_SNE.ipynb\" target=\"_parent\"><img src=\"https://colab.research.google.com/assets/colab-badge.svg\" alt=\"Open In Colab\"/></a>"
      ]
    },
    {
      "cell_type": "code",
      "metadata": {
        "colab": {
          "base_uri": "https://localhost:8080/"
        },
        "id": "Aqd2SNv7JVYQ",
        "outputId": "6c22aa17-e4a7-451d-e8e4-563d9c670c67"
      },
      "source": [
        "import pprint\n",
        "import pandas as pd\n",
        "import json\n",
        "words = []\n",
        "vectors = []\n",
        "sentenceIDs = []\n",
        "\n",
        "file = open('blackwhiteFT.txt', 'r')\n",
        "total = file.read()\n",
        "total = total[1:-2]\n",
        "wordAr = total.split('}, \"') \n",
        "counter = 0\n",
        "for ar in wordAr:\n",
        "    counter+=1\n",
        "    arr = ar.split('{\"word\": \"')\n",
        "    arr1 = arr[1].split('\", \"vector\": [')\n",
        "    arr2 = arr1[1].split(', \"sentence id\": ')\n",
        "    \n",
        "    stringg = arr1[0]\n",
        "    vecs = arr2[0].split('],[')\n",
        "    sentenceID = int(arr2[1])+1\n",
        "    for v in vecs:\n",
        "        words.append(stringg)\n",
        "        list1 = list(v.split(','))\n",
        "        veclist = []\n",
        "        for item in list1:\n",
        "            if item[-1] == ']':\n",
        "                item = item[:-1]\n",
        "            if item[-2:] == ']]':\n",
        "                item = item[:-2]\n",
        "            if item[-3:] == ']]}':\n",
        "                item = item[:-3]\n",
        "            veclist.append(float(item))\n",
        "        vectors.append(veclist)\n",
        "    sentenceIDs.append(sentenceID)\n",
        "print(\"A list of the clustered vectors is made with a list with corresponding labels\")\n",
        "print(\"Number of words contained in the Json: \", counter)\n",
        "print(\"Number of vectors contained in the Json: \", len(vectors))"
      ],
      "execution_count": 47,
      "outputs": [
        {
          "output_type": "stream",
          "text": [
            "A list of the clustered vectors is made with a list with corresponding labels\n",
            "Number of words contained in the Json:  105\n",
            "Number of vectors contained in the Json:  105\n"
          ],
          "name": "stdout"
        }
      ]
    },
    {
      "cell_type": "code",
      "metadata": {
        "id": "KpfSdsmfJVYQ"
      },
      "source": [
        "#Makes lists of vectors necessary for analysis \n",
        "listGenPosWords=[\n",
        "]\n",
        "\n",
        "listGenNegWords=[\n",
        "]\n",
        "\n",
        "listGenPosWordsWrong=[\n",
        "]\n",
        "listGenNegWordsWrong=[\n",
        "]\n",
        "\n",
        "listType2PosWords = [\n",
        "]\n",
        "listType2NegWords = [\n",
        "]\n",
        "\n",
        "listType3Words = ['bad','good','great','horrible','beautiful','love','hate','nice','rude','gorgeous','awful','decent','fantastic']\n"
      ],
      "execution_count": null,
      "outputs": []
    },
    {
      "cell_type": "code",
      "metadata": {
        "id": "lmlGLgqdJVYR",
        "colab": {
          "base_uri": "https://localhost:8080/",
          "height": 232
        },
        "outputId": "c73b013d-9794-4bcd-a449-edbd600994ba"
      },
      "source": [
        "#Code for appending word embeddings corresponding to the words of the list created above\n",
        "genericpos=[]\n",
        "genericneg=[]\n",
        "for index,word in enumerate(words):\n",
        "    for pos in listGenPosWords:\n",
        "        if word == pos.lower():\n",
        "            #genericpos.append(string1)\n",
        "            genericpos.append([word,vectors[index]])\n",
        "            break\n",
        "    for neg in listGenNegWords:\n",
        "        if word == neg.lower():\n",
        "            #genericneg.append(string1)\n",
        "            genericneg.append([word,vectors[index]])\n",
        "            break\n",
        "            \n",
        "type2PosWords = []\n",
        "type2NegWords = []\n",
        "for index,word in enumerate(words):\n",
        "    for pos in listType2PosWords:\n",
        "        if word == pos.lower():\n",
        "            #genericpos.append(string1)\n",
        "            type2PosWords.append([word,vectors[index]])\n",
        "            break\n",
        "    for neg in listType2NegWords:\n",
        "        if word == neg.lower():\n",
        "            #genericneg.append(string1)\n",
        "            type2NegWords.append([word,vectors[index]])\n",
        "            break\n",
        "type3Words = []\n",
        "genericpos=[]\n",
        "genericneg=[]\n",
        "for index,word in enumerate(words):\n",
        "    for pos in listType3Words:\n",
        "        if word == pos.lower():\n",
        "            #genericpos.append(string1)\n",
        "            type3Words.append([word,vectors[index],sentenceIDs[index]])\n",
        "            break"
      ],
      "execution_count": 4,
      "outputs": [
        {
          "output_type": "error",
          "ename": "NameError",
          "evalue": "ignored",
          "traceback": [
            "\u001b[0;31m---------------------------------------------------------------------------\u001b[0m",
            "\u001b[0;31mNameError\u001b[0m                                 Traceback (most recent call last)",
            "\u001b[0;32m<ipython-input-4-de93b3aef567>\u001b[0m in \u001b[0;36m<module>\u001b[0;34m()\u001b[0m\n\u001b[1;32m      2\u001b[0m \u001b[0mgenericneg\u001b[0m\u001b[0;34m=\u001b[0m\u001b[0;34m[\u001b[0m\u001b[0;34m]\u001b[0m\u001b[0;34m\u001b[0m\u001b[0;34m\u001b[0m\u001b[0m\n\u001b[1;32m      3\u001b[0m \u001b[0;32mfor\u001b[0m \u001b[0mindex\u001b[0m\u001b[0;34m,\u001b[0m\u001b[0mword\u001b[0m \u001b[0;32min\u001b[0m \u001b[0menumerate\u001b[0m\u001b[0;34m(\u001b[0m\u001b[0mwords\u001b[0m\u001b[0;34m)\u001b[0m\u001b[0;34m:\u001b[0m\u001b[0;34m\u001b[0m\u001b[0;34m\u001b[0m\u001b[0m\n\u001b[0;32m----> 4\u001b[0;31m     \u001b[0;32mfor\u001b[0m \u001b[0mpos\u001b[0m \u001b[0;32min\u001b[0m \u001b[0mlistGenPosWords\u001b[0m\u001b[0;34m:\u001b[0m\u001b[0;34m\u001b[0m\u001b[0;34m\u001b[0m\u001b[0m\n\u001b[0m\u001b[1;32m      5\u001b[0m         \u001b[0;32mif\u001b[0m \u001b[0mword\u001b[0m \u001b[0;34m==\u001b[0m \u001b[0mpos\u001b[0m\u001b[0;34m.\u001b[0m\u001b[0mlower\u001b[0m\u001b[0;34m(\u001b[0m\u001b[0;34m)\u001b[0m\u001b[0;34m:\u001b[0m\u001b[0;34m\u001b[0m\u001b[0;34m\u001b[0m\u001b[0m\n\u001b[1;32m      6\u001b[0m             \u001b[0;31m#genericpos.append(string1)\u001b[0m\u001b[0;34m\u001b[0m\u001b[0;34m\u001b[0m\u001b[0;34m\u001b[0m\u001b[0m\n",
            "\u001b[0;31mNameError\u001b[0m: name 'listGenPosWords' is not defined"
          ]
        }
      ]
    },
    {
      "cell_type": "code",
      "metadata": {
        "id": "943s0N4jickR"
      },
      "source": [
        "#### import important methods\n",
        "import matplotlib.pyplot as plt\n",
        "from sklearn.manifold import TSNE\n",
        "from sklearn.decomposition import PCA\n",
        "import seaborn as sns\n"
      ],
      "execution_count": null,
      "outputs": []
    },
    {
      "cell_type": "code",
      "metadata": {
        "colab": {
          "base_uri": "https://localhost:8080/"
        },
        "id": "4RVgXF8PJVYS",
        "outputId": "837e853c-2237-4979-fd15-402f5cd328b2"
      },
      "source": [
        "\n",
        "# FOR GENERIC -> TYPE 1\n",
        "# Determine the label colours per word\n",
        "wordsForLab = []\n",
        "vectors1 = []\n",
        "for i in genericpos:\n",
        "    wordsForLab.append(i[0])\n",
        "    vectors1.append(i[1])\n",
        "numpos = len(vectors1)\n",
        "for i in genericneg:\n",
        "    wordsForLab.append(i[0])\n",
        "    vectors1.append(i[1])\n",
        "labels = []\n",
        "i = 0\n",
        "while i<len(genericpos):\n",
        "    labels.append('green')\n",
        "    i+=1\n",
        "j = 0\n",
        "while j<len(genericneg):\n",
        "    labels.append('red')\n",
        "    j+=1\n",
        "print(len(vectors1),numpos,len(vectors1)-numpos)\n",
        "\n"
      ],
      "execution_count": null,
      "outputs": [
        {
          "output_type": "stream",
          "text": [
            "0 0 0\n"
          ],
          "name": "stdout"
        }
      ]
    },
    {
      "cell_type": "code",
      "metadata": {
        "colab": {
          "base_uri": "https://localhost:8080/"
        },
        "id": "GdVIme5iJVYS",
        "outputId": "3fd5786f-464f-44f2-d96f-e70803c86b17"
      },
      "source": [
        "\n",
        "\n",
        "# FOR ASPECT SPECIFIC -> TYPE 3\n",
        "# Determine the label colours per word\n",
        "wordsForLab3 = []\n",
        "vectors3= []\n",
        "labels3 = []\n",
        "for i in type3Words:\n",
        "  vectors3.append(i[1])\n",
        "  if (i[2] % 2) == 0:\n",
        "    name = i[0] + \" (-)\" # + ',' + str(i[2])\n",
        "    wordsForLab3.append(name)\n",
        "    labels3.append('black')\n",
        "  else :\n",
        "      name = i[0] +\" (+)\"# + ',' + str(i[2])\n",
        "      wordsForLab3.append(name)\n",
        "      labels3.append('silver')\n",
        "j = 0\n",
        "print(labels3)\n",
        "print(len(wordsForLab3))"
      ],
      "execution_count": 50,
      "outputs": [
        {
          "output_type": "stream",
          "text": [
            "['silver', 'black', 'silver', 'black', 'silver', 'black', 'silver', 'black', 'silver', 'black']\n",
            "10\n"
          ],
          "name": "stdout"
        }
      ]
    },
    {
      "cell_type": "code",
      "metadata": {
        "colab": {
          "base_uri": "https://localhost:8080/",
          "height": 265
        },
        "id": "wrxuhFWZJVYT",
        "outputId": "c9df76b8-e5d3-4713-9217-0b44c74b7b62"
      },
      "source": [
        "#Make plot by using t-SNE, use good perplexity\n",
        "\n",
        "tsne = TSNE(n_components=2,perplexity=4,n_iter=100000,random_state=42)\n",
        "x_5_1 = tsne.fit_transform(vectors3)\n",
        "#x_6_1 = tsne.fit_transform(vectors1)\n",
        "plt.scatter(x_5_1[:,0], x_5_1[:,1], color=labels3)\n",
        "#plt.scatter(x_6_1[:,0], x_6_1[:,1], color=labels)\n",
        "\n",
        "for i, txt in enumerate(wordsForLab3):\n",
        "    plt.annotate(txt, (x_5_1[i,0], x_5_1[i,1]))\n",
        "#for i, txt in enumerate(wordsForLab):\n",
        "    #plt.annotate(txt, (x_6_1[i,0], x_6_1[i,1]))"
      ],
      "execution_count": 51,
      "outputs": [
        {
          "output_type": "display_data",
          "data": {
            "image/png": "[encoded data removed]",
            "text/plain": [
              "<Figure size 432x288 with 1 Axes>"
            ]
          },
          "metadata": {
            "tags": [],
            "needs_background": "light"
          }
        }
      ]
    }
  ]
}